{
 "cells": [
  {
   "cell_type": "code",
   "execution_count": 1,
   "metadata": {},
   "outputs": [],
   "source": [
    "from langchain_groq import ChatGroq"
   ]
  },
  {
   "cell_type": "code",
   "execution_count": 2,
   "metadata": {},
   "outputs": [
    {
     "name": "stdout",
     "output_type": "stream",
     "text": [
      "The first person to land on the moon was Neil Armstrong. He stepped onto the lunar surface on July 20, 1969, as part of the Apollo 11 mission.\n"
     ]
    }
   ],
   "source": [
    "llm = ChatGroq(\n",
    "    temperature=0, \n",
    "    groq_api_key='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', \n",
    "    model_name=\"llama-3.1-70b-versatile\"\n",
    ")\n",
    "\n",
    "response = llm.invoke(\"The first person to land on moon was ...\")\n",
    "print(response.content)"
   ]
  },
  {
   "cell_type": "code",
   "execution_count": 15,
   "metadata": {},
   "outputs": [
    {
     "name": "stdout",
     "output_type": "stream",
     "text": [
      "Contact Center AI Sales Specialist IV, Google Cloud — Google CareersCareersSkip navigation linksTeamsLocationsBenefitsJobsStudentsYour careerarrow_drop_downYour career menu ApplicationsProfileSaved jobsJob alertsSign inCareersApplicationsProfileSearch jobsSaved jobsJob alertsTeamsLocationsBenefitsJobsStudentsHelpSend Feedbackjob detailsarrow_backBack to jobs searchJobs search results2,514  jobs matchedContact Center AI Sales Specialist IV, Google CloudAustin, TX, USA; Cambridge, MA, USA; +6 more; +5 moreSenior Software Engineering Manager, Infrastructure, Google Cloud Security and PrivacySunnyvale, CA, USASenior UX Researcher, gTech Users and ProductsBoulder, CO, USA; Atlanta, GA, USACloud Consultant, Application Modernization Edge, Professional ServicesAustin, TX, USA; Atlanta, GA, USA; +2 more; +1 moreCamera Software Engineer, Project StarlineMountain View, CA, USA; Seattle, WA, USAYouTube Ads Viewer Experience Product ManagerSan Bruno, CA, USA; Mountain View, CA, USACustomer Engineer III, AI/ML, Central, Google CloudAddison, TX, USADigital Business Marketing Apprenticeship, March 2025 Start (English)Hyderabad, Telangana, India; Gurugram, Haryana, India; +3 more; +2 moreSenior UX Writer, Travel AdsSeattle, WA, USA; Irvine, CA, USA; +2 more; +1 moreAccount Strategist, Mid-Market Sales, Google Customer Solutions, Poland Market (English, Polish)Dublin, IrelandSenior Account Executive, Mid-Market Sales, Google Customer SolutionsSan Francisco, CA, USASales Specialist, YouTube (Fixed-Term Contract)Copenhagen, DenmarkManaging Director, India Partnerships SolutionsMumbai, Maharashtra, India; Bengaluru, Karnataka, India; +2 more; +1 moreGoogle Experience Operations ManagerBengaluru, Karnataka, IndiaScaled Delivery Manager, gTech Ads SolutionsTaguig, Metro Manila, PhilippinesGenerative AI Evaluation Clinical ScientistMountain View, CA, USA; Seattle, WA, USA; +2 more; +1 moreDomain Assurance Compliance Specialist, Risk Compliance and IntegrityAustin, TX, USABOLD Intern, Summer 2025Mountain View, CA, USA; New York, NY, USA; +6 more; +5 moreProgram Manager, Business Continuity and ResilienceReston, VA, USAProduct Manager, Google Arts and CultureLondon, UK1‑20 of 2514navigate_nextFollow Life at Google on More about usAbout usopen_in_newContact usopen_in_newPressopen_in_newRelated InformationInvestor relationsopen_in_newBlogopen_in_newEqual OpportunityGoogle is proud to be an equal opportunity and affirmative action employer. We are committed to building a workforce that is representative of the users we serve, creating a culture of belonging, and providing an equal employment opportunity regardless of race, creed, color, religion, gender, sexual orientation, gender identity/expression, national origin, disability, age, genetic information, veteran status, marital status, pregnancy or related condition (including breastfeeding), expecting or parents-to-be, criminal histories consistent with legal requirements, or any other basis protected by law. See also  Google's EEO Policy, Know your rights: workplace discrimination is illegal, Belonging at Google, and How we hire.More about usexpand_moreRelated informationexpand_moreEqual opportunityexpand_morePrivacyopen_in_newApplicant & Candidate Privacyopen_in_newTermsopen_in_newhelpHelpopen_in_newarrow_backBack to jobs searchContact Center AI Sales Specialist IV, Google Cloudshare linkCopy linkemailEmail a friendcorporate_fareGoogleplaceAustin, TX, USA; Cambridge, MA, USA; +6 more; +5 morebar_chartAdvancedAdvancedExperience owning outcomes and decision making, solving ambiguous problems and influencing stakeholders; deep expertise in domain.Applyshare linkCopy linkemailEmail a friendinfo_outlineXNote: By applying to this position you will have an opportunity to share your preferred working location from the following: Austin, TX, USA; Cambridge, MA, USA; Chicago, IL, USA; Addison, TX, USA; New York, NY, USA; Reston, VA, USA; Washington D.C., DC, USA.Minimum qualifications:\n",
      "Bachelor's degree or equivalent practical experience.\n",
      "12 years of experience in a sales role in the enterprise software, cloud, or AI space.\n",
      "Experience identifying CCaaS use cases to solve customer challenges, selling Customer Experience, or AI technology to clients.\n",
      "Experience in, or supporting the healthcare life sciences or financial services industry.\n",
      "Preferred qualifications:\n",
      "Experience carrying and exceeding strategic business goals in sales roles.\n",
      "Experience supporting long-term executive relationships, and developing new territories/accounts, while ensuring customer success, adoption, and expansion.\n",
      "Experience working with internal/external teams to inventory existing software estate, build cases for transformation with implementation plans, and close agreements.\n",
      "Experience with Contact Center technologies (e.g. Avaya, Genesys, Cisco, Mitel, Twilio) and promoting CCAI and GenAI/AI technology stacks.\n",
      "Experience prioritizing, planning, and organizing sales activity within complex business cycles, including qualifying accounts and leveraging partner ecosystems.\n",
      "Knowledge of market trends, products, and solutions in Cloud, AI, and Customer Experience.\n",
      "About the jobAs a Contact Center AI Sales Specialist, you will help us grow our Contact Center AI (CCAI) and Contact Center as a Service (CCaaS) business by building and expanding relationships with new and existing customers.  You will lead day-to-day relationships with cross-functional team members and external customers, leading with empathy, while identifying innovative ways to multiply your impact and the impact of the team as a whole to drive overall value for Google Cloud.  You will partner with internal Google Cloud sales teams to grow our Customer Experience businesses, including expansion agreements and working with product teams to help our customers build new products leveraging our AI.Google Cloud accelerates every organization’s ability to digitally transform its business and industry. We deliver enterprise-grade solutions that leverage Google’s cutting-edge technology, and tools that help developers build more sustainably. Customers in more than 200 countries and territories turn to Google Cloud as their trusted partner to enable growth and solve their most critical business problems.The US base salary range for this full-time position is $163,000-$232,000 + bonus + equity + benefits. Our salary ranges are determined by role, level, and location. The range displayed on each job posting reflects the minimum and maximum target for new hire salaries for the position across all US locations. Within the range, individual pay is determined by work location and additional factors, including job-related skills, experience, and relevant education or training. Your recruiter can share more about the specific salary range for your preferred location during the hiring process. Please note that the compensation details listed in US role postings reflect the base salary only, and do not include bonus, equity, or benefits. Learn more about benefits at Google.Responsibilities\n",
      "Build relationships with customers as the Customer Experience and CCAI subject matter expert and trusted advisor, managing complex business cycles, identifying solution use cases, and influencing long-term strategic direction of accounts.\n",
      "Deliver against quota and achieve or exceed strategic business and growth goals while forecasting and reporting your territory’s business.\n",
      "Work with Google accounts and cross-functional teams (e.g.. Customer Engineering, Marketing, Customer Success, Product, Engineering, Channels) to develop go-to-market strategies, drive pipeline and business growth, close agreements, understand the customer, and provide excellent prospect and customer experience.\n",
      "Assist customers in identifying CCAI and AI/GenAI use cases suitable for Google Cloud AI products and solutions. Articulate key solution differentiators and the measurable business impact.\n",
      "Information collected and processed as part of your Google Careers profile, and any job applications you choose to submit is subject to Google's Applicant and Candidate Privacy Policy.Google is proud to be an equal opportunity and affirmative action employer. We are committed to building a workforce that is representative of the users we serve, creating a culture of belonging, and providing an equal employment opportunity regardless of race, creed, color, religion, gender, sexual orientation, gender identity/expression, national origin, disability, age, genetic information, veteran status, marital status, pregnancy or related condition (including breastfeeding), expecting or parents-to-be, criminal histories consistent with legal requirements, or any other basis protected by law. See also  Google's EEO Policy, Know your rights: workplace discrimination is illegal, Belonging at Google, and How we hire.If you have a need that requires accommodation, please let us know by completing our Accommodations for Applicants form.Google is a global company and, in order to facilitate efficient collaboration and communication globally, English proficiency is a requirement for all roles unless stated otherwise in the job posting.To all recruitment agencies: Google does not accept agency resumes. Please do not forward resumes to our jobs alias, Google employees, or any other organization location. Google is not responsible for any fees related to unsolicited resumes.Follow Life at Google on More about usAbout usopen_in_newContact usopen_in_newPressopen_in_newRelated InformationInvestor relationsopen_in_newBlogopen_in_newEqual OpportunityGoogle is proud to be an equal opportunity and affirmative action employer. We are committed to building a workforce that is representative of the users we serve, creating a culture of belonging, and providing an equal employment opportunity regardless of race, creed, color, religion, gender, sexual orientation, gender identity/expression, national origin, disability, age, genetic information, veteran status, marital status, pregnancy or related condition (including breastfeeding), expecting or parents-to-be, criminal histories consistent with legal requirements, or any other basis protected by law. See also  Google's EEO Policy, Know your rights: workplace discrimination is illegal, Belonging at Google, and How we hire.More about usexpand_moreRelated informationexpand_moreEqual opportunityexpand_morePrivacyopen_in_newApplicant & Candidate Privacyopen_in_newTermsopen_in_newhelpHelpopen_in_newFollow Life at Google on More about usAbout usopen_in_newContact usopen_in_newPressopen_in_newRelated InformationInvestor relationsopen_in_newBlogopen_in_newEqual OpportunityGoogle is proud to be an equal opportunity and affirmative action employer. We are committed to building a workforce that is representative of the users we serve, creating a culture of belonging, and providing an equal employment opportunity regardless of race, creed, color, religion, gender, sexual orientation, gender identity/expression, national origin, disability, age, genetic information, veteran status, marital status, pregnancy or related condition (including breastfeeding), expecting or parents-to-be, criminal histories consistent with legal requirements, or any other basis protected by law. See also  Google's EEO Policy, Know your rights: workplace discrimination is illegal, Belonging at Google, and How we hire.More about usexpand_moreRelated informationexpand_moreEqual opportunityexpand_morePrivacyopen_in_newApplicant & Candidate Privacyopen_in_newTermsopen_in_newhelpHelpopen_in_newGoogle appsMain menu\n"
     ]
    }
   ],
   "source": [
    "from langchain_community.document_loaders import WebBaseLoader\n",
    "\n",
    "loader = WebBaseLoader(\"https://www.google.com/about/careers/applications/jobs/results/80315719895392966-contact-center-ai-sales-specialist-iv-google-cloud\")\n",
    "page_data = loader.load().pop().page_content\n",
    "print(page_data)"
   ]
  },
  {
   "cell_type": "code",
   "execution_count": 31,
   "metadata": {},
   "outputs": [],
   "source": [
    "from langchain_core.prompts import PromptTemplate\n",
    "\n",
    "prompt_extract = PromptTemplate.from_template(\n",
    "        \"\"\"\n",
    "        ### SCRAPED TEXT FROM WEBSITE:\n",
    "        {page_data}\n",
    "        ### INSTRUCTION:\n",
    "        The scraped text is from the career's page of a website.\n",
    "        Your job is to extract the job postings and return them in JSON format containing the \n",
    "        following keys: `role`, `experience`, `skills` and `description`.\n",
    "        Only return the valid JSON.\n",
    "        ### VALID JSON (NO PREAMBLE):    \n",
    "        \"\"\"\n",
    ")\n",
    "\n",
    "chain_extract = prompt_extract | llm \n",
    "res = chain_extract.invoke(input={'page_data':page_data})"
   ]
  },
  {
   "cell_type": "code",
   "execution_count": 17,
   "metadata": {},
   "outputs": [
    {
     "data": {
      "text/plain": [
       "[{'role': 'Contact Center AI Sales Specialist IV, Google Cloud',\n",
       "  'experience': '12 years of experience in a sales role in the enterprise software, cloud, or AI space',\n",
       "  'skills': ['Experience identifying CCaaS use cases to solve customer challenges, selling Customer Experience, or AI technology to clients',\n",
       "   'Experience in, or supporting the healthcare life sciences or financial services industry',\n",
       "   'Experience carrying and exceeding strategic business goals in sales roles',\n",
       "   'Experience supporting long-term executive relationships, and developing new territories/accounts, while ensuring customer success, adoption, and expansion',\n",
       "   'Experience working with internal/external teams to inventory existing software estate, build cases for transformation with implementation plans, and close agreements',\n",
       "   'Experience with Contact Center technologies (e.g. Avaya, Genesys, Cisco, Mitel, Twilio) and promoting CCAI and GenAI/AI technology stacks',\n",
       "   'Experience prioritizing, planning, and organizing sales activity within complex business cycles, including qualifying accounts and leveraging partner ecosystems',\n",
       "   'Knowledge of market trends, products, and solutions in Cloud, AI, and Customer Experience'],\n",
       "  'description': 'As a Contact Center AI Sales Specialist, you will help us grow our Contact Center AI (CCAI) and Contact Center as a Service (CCaaS) business by building and expanding relationships with new and existing customers.  You will lead day-to-day relationships with cross-functional team members and external customers, leading with empathy, while identifying innovative ways to multiply your impact and the impact of the team as a whole to drive overall value for Google Cloud.  You will partner with internal Google Cloud sales teams to grow our Customer Experience businesses, including expansion agreements and working with product teams to help our customers build new products leveraging our AI.'},\n",
       " {'role': 'Senior Software Engineering Manager, Infrastructure, Google Cloud Security and Privacy',\n",
       "  'experience': '',\n",
       "  'skills': [],\n",
       "  'description': ''},\n",
       " {'role': 'Senior UX Researcher, gTech Users and Products',\n",
       "  'experience': '',\n",
       "  'skills': [],\n",
       "  'description': ''},\n",
       " {'role': 'Cloud Consultant, Application Modernization Edge, Professional Services',\n",
       "  'experience': '',\n",
       "  'skills': [],\n",
       "  'description': ''},\n",
       " {'role': 'Camera Software Engineer, Project Starline',\n",
       "  'experience': '',\n",
       "  'skills': [],\n",
       "  'description': ''},\n",
       " {'role': 'YouTube Ads Viewer Experience Product Manager',\n",
       "  'experience': '',\n",
       "  'skills': [],\n",
       "  'description': ''},\n",
       " {'role': 'Customer Engineer III, AI/ML, Central, Google Cloud',\n",
       "  'experience': '',\n",
       "  'skills': [],\n",
       "  'description': ''},\n",
       " {'role': 'Digital Business Marketing Apprenticeship, March 2025 Start (English)',\n",
       "  'experience': '',\n",
       "  'skills': [],\n",
       "  'description': ''},\n",
       " {'role': 'Senior UX Writer, Travel Ads',\n",
       "  'experience': '',\n",
       "  'skills': [],\n",
       "  'description': ''},\n",
       " {'role': 'Account Strategist, Mid-Market Sales, Google Customer Solutions, Poland Market (English, Polish)',\n",
       "  'experience': '',\n",
       "  'skills': [],\n",
       "  'description': ''},\n",
       " {'role': 'Senior Account Executive, Mid-Market Sales, Google Customer Solutions',\n",
       "  'experience': '',\n",
       "  'skills': [],\n",
       "  'description': ''},\n",
       " {'role': 'Sales Specialist, YouTube (Fixed-Term Contract)',\n",
       "  'experience': '',\n",
       "  'skills': [],\n",
       "  'description': ''},\n",
       " {'role': 'Managing Director, India Partnerships Solutions',\n",
       "  'experience': '',\n",
       "  'skills': [],\n",
       "  'description': ''},\n",
       " {'role': 'Google Experience Operations Manager',\n",
       "  'experience': '',\n",
       "  'skills': [],\n",
       "  'description': ''},\n",
       " {'role': 'Scaled Delivery Manager, gTech Ads Solutions',\n",
       "  'experience': '',\n",
       "  'skills': [],\n",
       "  'description': ''},\n",
       " {'role': 'Generative AI Evaluation Clinical Scientist',\n",
       "  'experience': '',\n",
       "  'skills': [],\n",
       "  'description': ''},\n",
       " {'role': 'Domain Assurance Compliance Specialist, Risk Compliance and Integrity',\n",
       "  'experience': '',\n",
       "  'skills': [],\n",
       "  'description': ''},\n",
       " {'role': 'BOLD Intern, Summer 2025',\n",
       "  'experience': '',\n",
       "  'skills': [],\n",
       "  'description': ''},\n",
       " {'role': 'Program Manager, Business Continuity and Resilience',\n",
       "  'experience': '',\n",
       "  'skills': [],\n",
       "  'description': ''},\n",
       " {'role': 'Product Manager, Google Arts and Culture',\n",
       "  'experience': '',\n",
       "  'skills': [],\n",
       "  'description': ''}]"
      ]
     },
     "execution_count": 17,
     "metadata": {},
     "output_type": "execute_result"
    }
   ],
   "source": [
    "from langchain_core.output_parsers import JsonOutputParser\n",
    "\n",
    "json_parser = JsonOutputParser()\n",
    "json_res = json_parser.parse(res.content)\n",
    "json_res"
   ]
  },
  {
   "cell_type": "code",
   "execution_count": 24,
   "metadata": {},
   "outputs": [
    {
     "data": {
      "text/html": [
       "<div>\n",
       "<style scoped>\n",
       "    .dataframe tbody tr th:only-of-type {\n",
       "        vertical-align: middle;\n",
       "    }\n",
       "\n",
       "    .dataframe tbody tr th {\n",
       "        vertical-align: top;\n",
       "    }\n",
       "\n",
       "    .dataframe thead th {\n",
       "        text-align: right;\n",
       "    }\n",
       "</style>\n",
       "<table border=\"1\" class=\"dataframe\">\n",
       "  <thead>\n",
       "    <tr style=\"text-align: right;\">\n",
       "      <th></th>\n",
       "      <th>Techstack</th>\n",
       "      <th>Links</th>\n",
       "    </tr>\n",
       "  </thead>\n",
       "  <tbody>\n",
       "    <tr>\n",
       "      <th>0</th>\n",
       "      <td>React, Node.js, MongoDB</td>\n",
       "      <td>https://example.com/react-portfolio</td>\n",
       "    </tr>\n",
       "    <tr>\n",
       "      <th>1</th>\n",
       "      <td>Angular,.NET, SQL Server</td>\n",
       "      <td>https://example.com/angular-portfolio</td>\n",
       "    </tr>\n",
       "    <tr>\n",
       "      <th>2</th>\n",
       "      <td>Vue.js, Ruby on Rails, PostgreSQL</td>\n",
       "      <td>https://example.com/vue-portfolio</td>\n",
       "    </tr>\n",
       "    <tr>\n",
       "      <th>3</th>\n",
       "      <td>Python, Django, MySQL</td>\n",
       "      <td>https://example.com/python-portfolio</td>\n",
       "    </tr>\n",
       "    <tr>\n",
       "      <th>4</th>\n",
       "      <td>Java, Spring Boot, Oracle</td>\n",
       "      <td>https://example.com/java-portfolio</td>\n",
       "    </tr>\n",
       "    <tr>\n",
       "      <th>5</th>\n",
       "      <td>Flutter, Firebase, GraphQL</td>\n",
       "      <td>https://example.com/flutter-portfolio</td>\n",
       "    </tr>\n",
       "    <tr>\n",
       "      <th>6</th>\n",
       "      <td>WordPress, PHP, MySQL</td>\n",
       "      <td>https://example.com/wordpress-portfolio</td>\n",
       "    </tr>\n",
       "    <tr>\n",
       "      <th>7</th>\n",
       "      <td>Magento, PHP, MySQL</td>\n",
       "      <td>https://example.com/magento-portfolio</td>\n",
       "    </tr>\n",
       "    <tr>\n",
       "      <th>8</th>\n",
       "      <td>React Native, Node.js, MongoDB</td>\n",
       "      <td>https://example.com/react-native-portfolio</td>\n",
       "    </tr>\n",
       "    <tr>\n",
       "      <th>9</th>\n",
       "      <td>iOS, Swift, Core Data</td>\n",
       "      <td>https://example.com/ios-portfolio</td>\n",
       "    </tr>\n",
       "    <tr>\n",
       "      <th>10</th>\n",
       "      <td>Android, Java, Room Persistence</td>\n",
       "      <td>https://example.com/android-portfolio</td>\n",
       "    </tr>\n",
       "    <tr>\n",
       "      <th>11</th>\n",
       "      <td>Kotlin, Android, Firebase</td>\n",
       "      <td>https://example.com/kotlin-android-portfolio</td>\n",
       "    </tr>\n",
       "    <tr>\n",
       "      <th>12</th>\n",
       "      <td>Android TV, Kotlin, Android NDK</td>\n",
       "      <td>https://example.com/android-tv-portfolio</td>\n",
       "    </tr>\n",
       "    <tr>\n",
       "      <th>13</th>\n",
       "      <td>iOS, Swift, ARKit</td>\n",
       "      <td>https://example.com/ios-ar-portfolio</td>\n",
       "    </tr>\n",
       "    <tr>\n",
       "      <th>14</th>\n",
       "      <td>Cross-platform, Xamarin, Azure</td>\n",
       "      <td>https://example.com/xamarin-portfolio</td>\n",
       "    </tr>\n",
       "    <tr>\n",
       "      <th>15</th>\n",
       "      <td>Backend, Kotlin, Spring Boot</td>\n",
       "      <td>https://example.com/kotlin-backend-portfolio</td>\n",
       "    </tr>\n",
       "    <tr>\n",
       "      <th>16</th>\n",
       "      <td>Frontend, TypeScript, Angular</td>\n",
       "      <td>https://example.com/typescript-frontend-portfolio</td>\n",
       "    </tr>\n",
       "    <tr>\n",
       "      <th>17</th>\n",
       "      <td>Full-stack, JavaScript, Express.js</td>\n",
       "      <td>https://example.com/full-stack-js-portfolio</td>\n",
       "    </tr>\n",
       "    <tr>\n",
       "      <th>18</th>\n",
       "      <td>Machine Learning, Python, TensorFlow</td>\n",
       "      <td>https://example.com/ml-python-portfolio</td>\n",
       "    </tr>\n",
       "    <tr>\n",
       "      <th>19</th>\n",
       "      <td>DevOps, Jenkins, Docker</td>\n",
       "      <td>https://example.com/devops-portfolio</td>\n",
       "    </tr>\n",
       "  </tbody>\n",
       "</table>\n",
       "</div>"
      ],
      "text/plain": [
       "                               Techstack  \\\n",
       "0                React, Node.js, MongoDB   \n",
       "1               Angular,.NET, SQL Server   \n",
       "2      Vue.js, Ruby on Rails, PostgreSQL   \n",
       "3                  Python, Django, MySQL   \n",
       "4              Java, Spring Boot, Oracle   \n",
       "5             Flutter, Firebase, GraphQL   \n",
       "6                  WordPress, PHP, MySQL   \n",
       "7                    Magento, PHP, MySQL   \n",
       "8         React Native, Node.js, MongoDB   \n",
       "9                  iOS, Swift, Core Data   \n",
       "10       Android, Java, Room Persistence   \n",
       "11             Kotlin, Android, Firebase   \n",
       "12       Android TV, Kotlin, Android NDK   \n",
       "13                     iOS, Swift, ARKit   \n",
       "14        Cross-platform, Xamarin, Azure   \n",
       "15          Backend, Kotlin, Spring Boot   \n",
       "16         Frontend, TypeScript, Angular   \n",
       "17    Full-stack, JavaScript, Express.js   \n",
       "18  Machine Learning, Python, TensorFlow   \n",
       "19               DevOps, Jenkins, Docker   \n",
       "\n",
       "                                                Links  \n",
       "0                 https://example.com/react-portfolio  \n",
       "1               https://example.com/angular-portfolio  \n",
       "2                   https://example.com/vue-portfolio  \n",
       "3                https://example.com/python-portfolio  \n",
       "4                  https://example.com/java-portfolio  \n",
       "5               https://example.com/flutter-portfolio  \n",
       "6             https://example.com/wordpress-portfolio  \n",
       "7               https://example.com/magento-portfolio  \n",
       "8          https://example.com/react-native-portfolio  \n",
       "9                   https://example.com/ios-portfolio  \n",
       "10              https://example.com/android-portfolio  \n",
       "11       https://example.com/kotlin-android-portfolio  \n",
       "12           https://example.com/android-tv-portfolio  \n",
       "13               https://example.com/ios-ar-portfolio  \n",
       "14              https://example.com/xamarin-portfolio  \n",
       "15       https://example.com/kotlin-backend-portfolio  \n",
       "16  https://example.com/typescript-frontend-portfolio  \n",
       "17        https://example.com/full-stack-js-portfolio  \n",
       "18            https://example.com/ml-python-portfolio  \n",
       "19               https://example.com/devops-portfolio  "
      ]
     },
     "execution_count": 24,
     "metadata": {},
     "output_type": "execute_result"
    }
   ],
   "source": [
    "import pandas as pd\n",
    "\n",
    "df = pd.read_csv(r\"C:\\Users\\HP\\ColdEmailGenerator\\my_portfolio.csv\")\n",
    "df"
   ]
  },
  {
   "cell_type": "code",
   "execution_count": 25,
   "metadata": {},
   "outputs": [],
   "source": [
    "import uuid\n",
    "import chromadb\n",
    "\n",
    "client = chromadb.PersistentClient('vectorstore')\n",
    "collection = client.get_or_create_collection(name=\"portfolio\")\n",
    "\n",
    "if not collection.count():\n",
    "    for _, row in df.iterrows():\n",
    "        collection.add(documents=row[\"Techstack\"],\n",
    "                       metadatas={\"links\": row[\"Links\"]},\n",
    "                       ids=[str(uuid.uuid4())])"
   ]
  },
  {
   "cell_type": "code",
   "execution_count": 30,
   "metadata": {},
   "outputs": [
    {
     "ename": "TypeError",
     "evalue": "list indices must be integers or slices, not str",
     "output_type": "error",
     "traceback": [
      "\u001b[1;31m---------------------------------------------------------------------------\u001b[0m",
      "\u001b[1;31mTypeError\u001b[0m                                 Traceback (most recent call last)",
      "Cell \u001b[1;32mIn[30], line 1\u001b[0m\n\u001b[1;32m----> 1\u001b[0m links \u001b[38;5;241m=\u001b[39m collection\u001b[38;5;241m.\u001b[39mquery(query_texts\u001b[38;5;241m=\u001b[39m\u001b[43mjob\u001b[49m\u001b[43m[\u001b[49m\u001b[38;5;124;43m'\u001b[39;49m\u001b[38;5;124;43mskills\u001b[39;49m\u001b[38;5;124;43m'\u001b[39;49m\u001b[43m]\u001b[49m, n_results\u001b[38;5;241m=\u001b[39m\u001b[38;5;241m2\u001b[39m)\u001b[38;5;241m.\u001b[39mget(\u001b[38;5;124m'\u001b[39m\u001b[38;5;124mmetadatas\u001b[39m\u001b[38;5;124m'\u001b[39m, [])\n\u001b[0;32m      2\u001b[0m links\n",
      "\u001b[1;31mTypeError\u001b[0m: list indices must be integers or slices, not str"
     ]
    }
   ],
   "source": [
    "links = collection.query(query_texts=job['skills'], n_results=2).get('metadatas', [])\n",
    "links"
   ]
  },
  {
   "cell_type": "code",
   "execution_count": 27,
   "metadata": {},
   "outputs": [
    {
     "ename": "NameError",
     "evalue": "name 'job' is not defined",
     "output_type": "error",
     "traceback": [
      "\u001b[1;31m---------------------------------------------------------------------------\u001b[0m",
      "\u001b[1;31mNameError\u001b[0m                                 Traceback (most recent call last)",
      "Cell \u001b[1;32mIn[27], line 1\u001b[0m\n\u001b[1;32m----> 1\u001b[0m \u001b[43mjob\u001b[49m\n",
      "\u001b[1;31mNameError\u001b[0m: name 'job' is not defined"
     ]
    }
   ],
   "source": [
    "job"
   ]
  },
  {
   "cell_type": "code",
   "execution_count": 28,
   "metadata": {},
   "outputs": [
    {
     "ename": "TypeError",
     "evalue": "list indices must be integers or slices, not str",
     "output_type": "error",
     "traceback": [
      "\u001b[1;31m---------------------------------------------------------------------------\u001b[0m",
      "\u001b[1;31mTypeError\u001b[0m                                 Traceback (most recent call last)",
      "Cell \u001b[1;32mIn[28], line 2\u001b[0m\n\u001b[0;32m      1\u001b[0m job \u001b[38;5;241m=\u001b[39m json_res\n\u001b[1;32m----> 2\u001b[0m \u001b[43mjob\u001b[49m\u001b[43m[\u001b[49m\u001b[38;5;124;43m'\u001b[39;49m\u001b[38;5;124;43mskills\u001b[39;49m\u001b[38;5;124;43m'\u001b[39;49m\u001b[43m]\u001b[49m\n",
      "\u001b[1;31mTypeError\u001b[0m: list indices must be integers or slices, not str"
     ]
    }
   ],
   "source": [
    "job = json_res\n",
    "job['skills']"
   ]
  }
 ],
 "metadata": {
  "kernelspec": {
   "display_name": "Python 3",
   "language": "python",
   "name": "python3"
  },
  "language_info": {
   "codemirror_mode": {
    "name": "ipython",
    "version": 3
   },
   "file_extension": ".py",
   "mimetype": "text/x-python",
   "name": "python",
   "nbconvert_exporter": "python",
   "pygments_lexer": "ipython3",
   "version": "3.8.20"
  }
 },
 "nbformat": 4,
 "nbformat_minor": 2
}
